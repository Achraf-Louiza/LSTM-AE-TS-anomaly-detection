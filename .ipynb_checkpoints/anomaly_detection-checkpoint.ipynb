{
 "cells": [
  {
   "cell_type": "code",
   "execution_count": 1,
   "id": "119b8b43",
   "metadata": {},
   "outputs": [],
   "source": [
    "import pandas as pd\n",
    "from functions.displayer import (plot_cycle,\n",
    "                                 plot_windowed_cycle)\n",
    "from functions.data_processor import DataProcessor\n",
    "from models.encoder import Encoder\n",
    "from models.decoder import Decoder\n",
    "from models.autoencoder import Autoencoder\n",
    "import matplotlib.pyplot as plt"
   ]
  },
  {
   "cell_type": "code",
   "execution_count": 2,
   "id": "2200bab4",
   "metadata": {},
   "outputs": [],
   "source": [
    "# PATHs\n",
    "TRAIN_PATH = 'data/train.csv'\n",
    "TEST_PATH = 'data/test.csv'"
   ]
  },
  {
   "cell_type": "markdown",
   "id": "ddfb6632",
   "metadata": {},
   "source": [
    "<h1><center>Unsupervised anomaly detection using autoencoders</center></h1>\n",
    "<h3><center>Multivariate time series - Wafers</center></h3>"
   ]
  },
  {
   "cell_type": "markdown",
   "id": "21e40af3",
   "metadata": {},
   "source": [
    "-------"
   ]
  },
  {
   "cell_type": "markdown",
   "id": "5983aec8",
   "metadata": {},
   "source": [
    "## I. Data preparation"
   ]
  },
  {
   "cell_type": "markdown",
   "id": "91826251",
   "metadata": {},
   "source": [
    "#### 1. Data reading"
   ]
  },
  {
   "cell_type": "markdown",
   "id": "6dd80e72",
   "metadata": {},
   "source": [
    "- Read csv files"
   ]
  },
  {
   "cell_type": "code",
   "execution_count": 3,
   "id": "c6bbd3f2",
   "metadata": {},
   "outputs": [],
   "source": [
    "train = pd.read_csv(TRAIN_PATH)\n",
    "test = pd.read_csv(TEST_PATH)"
   ]
  },
  {
   "cell_type": "markdown",
   "id": "ac053667",
   "metadata": {},
   "source": [
    "- Extract X and y"
   ]
  },
  {
   "cell_type": "code",
   "execution_count": 4,
   "id": "4ef2224e",
   "metadata": {},
   "outputs": [],
   "source": [
    "# Training set\n",
    "x_train = train[['id', 'value']]\n",
    "y_train = train.groupby(['id']).apply(lambda X: X.isAnomaly.iloc[0])\n",
    "# Testing set\n",
    "x_test = test[['id', 'value']]\n",
    "y_test = test.groupby(['id']).apply(lambda X: X.isAnomaly.iloc[0])"
   ]
  },
  {
   "cell_type": "markdown",
   "id": "04e477c4",
   "metadata": {},
   "source": [
    "#### 2. Data description"
   ]
  },
  {
   "cell_type": "markdown",
   "id": "980d0902",
   "metadata": {},
   "source": [
    "Data contains a calculated measure based on multiple sensors. This measure is **cyclic** with **152 timestamp per cycle**."
   ]
  },
  {
   "cell_type": "code",
   "execution_count": 5,
   "id": "6f5f5839",
   "metadata": {},
   "outputs": [],
   "source": [
    "n_train_anomaly = y_train.value_counts()\n",
    "n_test_anomaly = y_test.value_counts()"
   ]
  },
  {
   "cell_type": "code",
   "execution_count": 6,
   "id": "6a66c3c1",
   "metadata": {},
   "outputs": [
    {
     "name": "stdout",
     "output_type": "stream",
     "text": [
      "Train anomaly distribution: \n",
      " 1    903\n",
      "-1     97\n",
      "dtype: int64\n",
      "\n",
      "Test anomaly distribution: \n",
      " 1    5499\n",
      "-1     665\n",
      "dtype: int64\n"
     ]
    }
   ],
   "source": [
    "print('Train anomaly distribution: ', n_train_anomaly, sep='\\n', end='\\n\\n')\n",
    "print('Test anomaly distribution: ', n_test_anomaly, sep='\\n')"
   ]
  },
  {
   "cell_type": "markdown",
   "id": "72c03b42",
   "metadata": {},
   "source": [
    "#### 3. Data visualization"
   ]
  },
  {
   "cell_type": "code",
   "execution_count": 7,
   "id": "46814244",
   "metadata": {},
   "outputs": [
    {
     "data": {
      "image/png": "[encoded data removed]",
      "text/plain": [
       "<Figure size 1080x360 with 2 Axes>"
      ]
     },
     "metadata": {
      "needs_background": "light"
     },
     "output_type": "display_data"
    }
   ],
   "source": [
    "plot_cycle(train)"
   ]
  },
  {
   "cell_type": "markdown",
   "id": "406a0b0f",
   "metadata": {},
   "source": [
    "#### 4. Training set"
   ]
  },
  {
   "cell_type": "markdown",
   "id": "66d56040",
   "metadata": {},
   "source": [
    "- The training set for timeseries anomaly detection should be composed exclusively of normal cycles. Since the model's objective is to learn features intrinsic of normal cycles and learn to reconstruct the original series from a small latent space. The error would be higher if the cycle prove to be an anomaly."
   ]
  },
  {
   "cell_type": "code",
   "execution_count": 8,
   "id": "32cbdeb4",
   "metadata": {},
   "outputs": [],
   "source": [
    "x_train = x_train[train.isAnomaly==1].reset_index(drop=True)"
   ]
  },
  {
   "cell_type": "markdown",
   "id": "ed6c5dc1",
   "metadata": {},
   "source": [
    "#### 5. Data processing "
   ]
  },
  {
   "cell_type": "markdown",
   "id": "6594d7fb",
   "metadata": {},
   "source": [
    "- Data proccessor parameters"
   ]
  },
  {
   "cell_type": "code",
   "execution_count": 9,
   "id": "6177f63f",
   "metadata": {},
   "outputs": [],
   "source": [
    "col_names = ['value']\n",
    "id = 'id'"
   ]
  },
  {
   "cell_type": "markdown",
   "id": "b484d9e3",
   "metadata": {},
   "source": [
    "- Create data processor"
   ]
  },
  {
   "cell_type": "code",
   "execution_count": 10,
   "id": "61fce28f",
   "metadata": {},
   "outputs": [],
   "source": [
    "dp = DataProcessor(x_train, x_test, col_names, id)"
   ]
  },
  {
   "cell_type": "markdown",
   "id": "2a594edb",
   "metadata": {},
   "source": [
    "- Scaling data"
   ]
  },
  {
   "cell_type": "code",
   "execution_count": 11,
   "id": "a820de84",
   "metadata": {},
   "outputs": [],
   "source": [
    "dp.scale_data()"
   ]
  },
  {
   "cell_type": "markdown",
   "id": "3753b697",
   "metadata": {},
   "source": [
    "- Reshaping data"
   ]
  },
  {
   "cell_type": "code",
   "execution_count": 12,
   "id": "a78fe810",
   "metadata": {},
   "outputs": [
    {
     "name": "stdout",
     "output_type": "stream",
     "text": [
      "(903, 152, 1)\n"
     ]
    }
   ],
   "source": [
    "dp.reshape_data()\n",
    "print(dp.s_train.shape)"
   ]
  },
  {
   "cell_type": "markdown",
   "id": "03c89c46",
   "metadata": {},
   "source": [
    "- Windowing: *Size = 10, gap = 4*"
   ]
  },
  {
   "cell_type": "code",
   "execution_count": 13,
   "id": "e958a457",
   "metadata": {},
   "outputs": [],
   "source": [
    "dp.windowing(10, 4)"
   ]
  },
  {
   "cell_type": "code",
   "execution_count": 14,
   "id": "026c03aa",
   "metadata": {},
   "outputs": [
    {
     "name": "stdout",
     "output_type": "stream",
     "text": [
      "Train shape after windowing:  (32508, 10, 1)\n"
     ]
    }
   ],
   "source": [
    "print('Train shape after windowing: ', dp.w_train.shape)"
   ]
  },
  {
   "cell_type": "markdown",
   "id": "4b9457f5",
   "metadata": {},
   "source": [
    "- Visualize windowing overlapping impact"
   ]
  },
  {
   "cell_type": "code",
   "execution_count": 15,
   "id": "d9383f2e",
   "metadata": {},
   "outputs": [
    {
     "data": {
      "image/png": "[encoded data removed]",
      "text/plain": [
       "<Figure size 1080x360 with 2 Axes>"
      ]
     },
     "metadata": {
      "needs_background": "light"
     },
     "output_type": "display_data"
    }
   ],
   "source": [
    "plot_windowed_cycle(dp.s_train, dp.w_train, gap=4)"
   ]
  },
  {
   "cell_type": "markdown",
   "id": "ceb94292",
   "metadata": {},
   "source": [
    "## II. Training an auto-encoder"
   ]
  },
  {
   "cell_type": "markdown",
   "id": "9befd9f9",
   "metadata": {},
   "source": [
    "#### 0. Dimensions definition"
   ]
  },
  {
   "cell_type": "code",
   "execution_count": 16,
   "id": "5d359cbf",
   "metadata": {},
   "outputs": [],
   "source": [
    "# Training set shape\n",
    "shape = dp.w_train.shape\n",
    "# Sub sequence shape\n",
    "length_sequence = shape[1]\n",
    "n_features = shape[2]\n",
    "# Latent dimension \n",
    "n_latent = 2"
   ]
  },
  {
   "cell_type": "markdown",
   "id": "7b258b1d",
   "metadata": {},
   "source": [
    "#### 1. Create an LSTM encoder"
   ]
  },
  {
   "cell_type": "code",
   "execution_count": 17,
   "id": "7dbf391e",
   "metadata": {},
   "outputs": [],
   "source": [
    "encoder = Encoder(length_sequence, n_features, n_latent).model"
   ]
  },
  {
   "cell_type": "markdown",
   "id": "aa8de0cd",
   "metadata": {},
   "source": [
    "#### 2. Create an LSTM decoder"
   ]
  },
  {
   "cell_type": "code",
   "execution_count": 18,
   "id": "a02a36ff",
   "metadata": {},
   "outputs": [],
   "source": [
    "decoder = Decoder(length_sequence, n_features, n_latent).model"
   ]
  },
  {
   "cell_type": "markdown",
   "id": "ec91a4ef",
   "metadata": {},
   "source": [
    "#### 3. Create an auto-encoder"
   ]
  },
  {
   "cell_type": "code",
   "execution_count": 19,
   "id": "3cef71d2",
   "metadata": {},
   "outputs": [],
   "source": [
    "ae = Autoencoder(encoder, decoder).model"
   ]
  },
  {
   "cell_type": "markdown",
   "id": "a734581c",
   "metadata": {},
   "source": [
    "#### 4. Compile and explore the auto-encoder"
   ]
  },
  {
   "cell_type": "code",
   "execution_count": 20,
   "id": "6334deb8",
   "metadata": {},
   "outputs": [
    {
     "name": "stdout",
     "output_type": "stream",
     "text": [
      "Model: \"Autoencoder-Model\"\n",
      "_________________________________________________________________\n",
      " Layer (type)                Output Shape              Param #   \n",
      "=================================================================\n",
      " input_1 (InputLayer)        [(None, 10, 1)]           0         \n",
      "                                                                 \n",
      " Encoder-Model (Functional)  (None, 2)                 4418      \n",
      "                                                                 \n",
      " Decoder-Model (Functional)  (None, 10, 1)             4513      \n",
      "                                                                 \n",
      "=================================================================\n",
      "Total params: 8,931\n",
      "Trainable params: 8,931\n",
      "Non-trainable params: 0\n",
      "_________________________________________________________________\n"
     ]
    }
   ],
   "source": [
    "ae.compile(optimizer='adam', loss='mse')\n",
    "ae.summary()"
   ]
  },
  {
   "cell_type": "markdown",
   "id": "6c18916a",
   "metadata": {},
   "source": [
    "#### 5. Fitting the model"
   ]
  },
  {
   "cell_type": "code",
   "execution_count": 21,
   "id": "9de6881f",
   "metadata": {},
   "outputs": [
    {
     "name": "stdout",
     "output_type": "stream",
     "text": [
      "Epoch 1/10\n",
      "1016/1016 [==============================] - 19s 17ms/step - loss: 0.1761 - val_loss: 0.0968\n",
      "Epoch 2/10\n",
      "1016/1016 [==============================] - 16s 16ms/step - loss: 0.0895 - val_loss: 0.0775\n",
      "Epoch 3/10\n",
      "1016/1016 [==============================] - 16s 16ms/step - loss: 0.0760 - val_loss: 0.0661\n",
      "Epoch 4/10\n",
      "1016/1016 [==============================] - 17s 16ms/step - loss: 0.0652 - val_loss: 0.0565\n",
      "Epoch 5/10\n",
      "1016/1016 [==============================] - 16s 16ms/step - loss: 0.0565 - val_loss: 0.0528\n",
      "Epoch 6/10\n",
      "1016/1016 [==============================] - 16s 16ms/step - loss: 0.0502 - val_loss: 0.0437\n",
      "Epoch 7/10\n",
      "1016/1016 [==============================] - 16s 16ms/step - loss: 0.0479 - val_loss: 0.0400\n",
      "Epoch 8/10\n",
      "1016/1016 [==============================] - 17s 17ms/step - loss: 0.0433 - val_loss: 0.0420\n",
      "Epoch 9/10\n",
      "1016/1016 [==============================] - 17s 17ms/step - loss: 0.0391 - val_loss: 0.0348\n",
      "Epoch 10/10\n",
      "1016/1016 [==============================] - 17s 17ms/step - loss: 0.0367 - val_loss: 0.0338\n"
     ]
    },
    {
     "data": {
      "text/plain": [
       "<keras.callbacks.History at 0x1cf8bc16130>"
      ]
     },
     "execution_count": 21,
     "metadata": {},
     "output_type": "execute_result"
    }
   ],
   "source": [
    "ae.fit(x=dp.w_train,\n",
    "       y=dp.w_train,\n",
    "       batch_size=32,\n",
    "       epochs=10,\n",
    "       validation_data=(dp.w_test, dp.w_test))"
   ]
  },
  {
   "cell_type": "markdown",
   "id": "08d422db",
   "metadata": {},
   "source": [
    "#### 6. Test  windowed prediction"
   ]
  },
  {
   "cell_type": "code",
   "execution_count": 22,
   "id": "e5087da8",
   "metadata": {},
   "outputs": [
    {
     "name": "stdout",
     "output_type": "stream",
     "text": [
      "6935/6935 [==============================] - 13s 2ms/step\n"
     ]
    }
   ],
   "source": [
    "w_pred = ae.predict(dp.w_test)"
   ]
  },
  {
   "cell_type": "markdown",
   "id": "e0d1c5cb",
   "metadata": {},
   "source": [
    "#### 7. Visualize a windowed prediction"
   ]
  },
  {
   "cell_type": "code",
   "execution_count": 26,
   "id": "35edccc5",
   "metadata": {},
   "outputs": [
    {
     "data": {
      "image/png": "[encoded data removed]",
      "text/plain": [
       "<Figure size 1080x360 with 2 Axes>"
      ]
     },
     "metadata": {
      "needs_background": "light"
     },
     "output_type": "display_data"
    }
   ],
   "source": [
    "plot_windowed_cycle(dp.s_test, w_pred, gap=4)"
   ]
  },
  {
   "cell_type": "markdown",
   "id": "a90f0c6a",
   "metadata": {},
   "source": [
    "## III. Reconstruction"
   ]
  },
  {
   "cell_type": "markdown",
   "id": "b2812b04",
   "metadata": {},
   "source": [
    "#### 1. Transform windowed prediction into reconstructed cycles "
   ]
  },
  {
   "cell_type": "code",
   "execution_count": null,
   "id": "e1568560",
   "metadata": {},
   "outputs": [],
   "source": []
  },
  {
   "cell_type": "markdown",
   "id": "64065a38",
   "metadata": {},
   "source": [
    "#### 2. Average reconstruction error per cycle"
   ]
  },
  {
   "cell_type": "code",
   "execution_count": null,
   "id": "1ac20ea8",
   "metadata": {},
   "outputs": [],
   "source": []
  }
 ],
 "metadata": {
  "kernelspec": {
   "display_name": "Python 3 (ipykernel)",
   "language": "python",
   "name": "python3"
  },
  "language_info": {
   "codemirror_mode": {
    "name": "ipython",
    "version": 3
   },
   "file_extension": ".py",
   "mimetype": "text/x-python",
   "name": "python",
   "nbconvert_exporter": "python",
   "pygments_lexer": "ipython3",
   "version": "3.9.12"
  }
 },
 "nbformat": 4,
 "nbformat_minor": 5
}
